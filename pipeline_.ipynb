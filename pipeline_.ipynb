{
 "cells": [
  {
   "cell_type": "code",
   "execution_count": 1,
   "id": "0be4423f-b0eb-48b9-8c87-100e1ed81d97",
   "metadata": {
    "execution": {
     "iopub.execute_input": "2025-09-14T19:27:45.965053Z",
     "iopub.status.busy": "2025-09-14T19:27:45.964343Z",
     "iopub.status.idle": "2025-09-14T19:27:46.408130Z",
     "shell.execute_reply": "2025-09-14T19:27:46.403546Z",
     "shell.execute_reply.started": "2025-09-14T19:27:45.965031Z"
    },
    "tags": []
   },
   "outputs": [],
   "source": [
    "import pandas as pd\n",
    "import numpy as np"
   ]
  },
  {
   "cell_type": "code",
   "execution_count": 2,
   "id": "dd75c5d1-5ecb-4fa0-a210-e3a319ede5df",
   "metadata": {
    "execution": {
     "iopub.execute_input": "2025-09-14T19:27:46.412035Z",
     "iopub.status.busy": "2025-09-14T19:27:46.411666Z",
     "iopub.status.idle": "2025-09-14T19:27:46.421360Z",
     "shell.execute_reply": "2025-09-14T19:27:46.420547Z",
     "shell.execute_reply.started": "2025-09-14T19:27:46.412000Z"
    },
    "id": "K280GI2CABe1",
    "tags": []
   },
   "outputs": [],
   "source": [
    "# const_values\n",
    "travelcard_price = -5000\n",
    "premium_price = -10000\n",
    "\n",
    "travel_cashback_limit = 50000\n",
    "premium_cashback_limit = 100000\n"
   ]
  },
  {
   "cell_type": "code",
   "execution_count": 3,
   "id": "328ca913-63e4-4174-99f9-d113b1df4cc5",
   "metadata": {
    "execution": {
     "iopub.execute_input": "2025-09-14T19:27:46.421994Z",
     "iopub.status.busy": "2025-09-14T19:27:46.421806Z",
     "iopub.status.idle": "2025-09-14T19:27:46.427170Z",
     "shell.execute_reply": "2025-09-14T19:27:46.425752Z",
     "shell.execute_reply.started": "2025-09-14T19:27:46.421976Z"
    },
    "tags": []
   },
   "outputs": [],
   "source": [
    "client_url = \"./client.csv\"\n",
    "url_transaction = \"./client_1_transactions_3m.csv\"\n",
    "url_transfer = \"./client_1_transfers_3m.csv\""
   ]
  },
  {
   "cell_type": "code",
   "execution_count": 4,
   "id": "fb3c22fc-f9cf-487b-b78f-46193da28c92",
   "metadata": {
    "execution": {
     "iopub.execute_input": "2025-09-14T19:27:46.427761Z",
     "iopub.status.busy": "2025-09-14T19:27:46.427596Z",
     "iopub.status.idle": "2025-09-14T19:27:46.564588Z",
     "shell.execute_reply": "2025-09-14T19:27:46.563369Z",
     "shell.execute_reply.started": "2025-09-14T19:27:46.427744Z"
    },
    "tags": []
   },
   "outputs": [
    {
     "name": "stdout",
     "output_type": "stream",
     "text": [
      "'bcc (2).ipynb'\t\t        client_info_sm.xlsx\t      result.csv\n",
      " client_1_transactions_3m.csv   data\t\t\t      Генерация_.ipynb\n",
      " client_1_transfers_3m.csv      Foreign_Exchange_Rates.xlsx\n",
      " client.csv\t\t        pipeline.ipynb\n"
     ]
    }
   ],
   "source": [
    "!ls"
   ]
  },
  {
   "cell_type": "code",
   "execution_count": 5,
   "id": "6a953fb2-ddbe-4ba3-bfdb-a51a05749488",
   "metadata": {
    "execution": {
     "iopub.execute_input": "2025-09-14T19:27:46.566043Z",
     "iopub.status.busy": "2025-09-14T19:27:46.565794Z",
     "iopub.status.idle": "2025-09-14T19:27:46.608434Z",
     "shell.execute_reply": "2025-09-14T19:27:46.603163Z",
     "shell.execute_reply.started": "2025-09-14T19:27:46.566022Z"
    },
    "id": "KQdk5IiZx4yy",
    "tags": []
   },
   "outputs": [],
   "source": [
    "client = pd.read_csv(client_url)\n",
    "transfers_df = pd.read_csv(url_transfer)\n",
    "transactions_df = pd.read_csv(url_transaction)"
   ]
  },
  {
   "cell_type": "markdown",
   "id": "dd9962c7-9f54-4d45-80ed-969b7c822be0",
   "metadata": {
    "id": "8vguik0PiCgg"
   },
   "source": [
    "# Конвертация валют\n",
    "  "
   ]
  },
  {
   "cell_type": "code",
   "execution_count": 6,
   "id": "f66c858e-3c3a-45e6-98c9-10f47b295902",
   "metadata": {
    "execution": {
     "iopub.execute_input": "2025-09-14T19:27:46.609594Z",
     "iopub.status.busy": "2025-09-14T19:27:46.609008Z",
     "iopub.status.idle": "2025-09-14T19:27:46.618831Z",
     "shell.execute_reply": "2025-09-14T19:27:46.618189Z",
     "shell.execute_reply.started": "2025-09-14T19:27:46.609572Z"
    },
    "id": "YYisryxXkigC",
    "tags": []
   },
   "outputs": [],
   "source": [
    "transactions_df['date'] = pd.to_datetime(transactions_df['date']).dt.strftime('%d.%m.%Y')\n",
    "transfers_df['date'] = pd.to_datetime(transfers_df['date']).dt.strftime('%d.%m.%Y')"
   ]
  },
  {
   "cell_type": "code",
   "execution_count": 7,
   "id": "76fe9c1a-0277-404e-b5ae-26caa93e3e0e",
   "metadata": {
    "execution": {
     "iopub.execute_input": "2025-09-14T19:27:46.621362Z",
     "iopub.status.busy": "2025-09-14T19:27:46.620752Z",
     "iopub.status.idle": "2025-09-14T19:27:46.780448Z",
     "shell.execute_reply": "2025-09-14T19:27:46.774498Z",
     "shell.execute_reply.started": "2025-09-14T19:27:46.621335Z"
    },
    "id": "iSrnrNSfkJoY",
    "tags": []
   },
   "outputs": [],
   "source": [
    "exchange_rate = pd.read_excel(\"./Foreign_Exchange_Rates.xlsx\")\n",
    "exchange_rate = exchange_rate.set_index('Date')"
   ]
  },
  {
   "cell_type": "code",
   "execution_count": 8,
   "id": "07b98680-ace7-4840-a535-6324e17a5c92",
   "metadata": {
    "execution": {
     "iopub.execute_input": "2025-09-14T19:27:46.783585Z",
     "iopub.status.busy": "2025-09-14T19:27:46.782374Z",
     "iopub.status.idle": "2025-09-14T19:27:46.796585Z",
     "shell.execute_reply": "2025-09-14T19:27:46.788990Z",
     "shell.execute_reply.started": "2025-09-14T19:27:46.783561Z"
    },
    "id": "czpx-cJWm_hE",
    "tags": []
   },
   "outputs": [],
   "source": [
    "exchange_rate['KZT'] = 1"
   ]
  },
  {
   "cell_type": "code",
   "execution_count": 9,
   "id": "1d9ab2e6-0251-4fd1-91c8-218bc4cfbc43",
   "metadata": {
    "execution": {
     "iopub.execute_input": "2025-09-14T19:27:46.797272Z",
     "iopub.status.busy": "2025-09-14T19:27:46.797085Z",
     "iopub.status.idle": "2025-09-14T19:27:46.871128Z",
     "shell.execute_reply": "2025-09-14T19:27:46.870396Z",
     "shell.execute_reply.started": "2025-09-14T19:27:46.797253Z"
    },
    "id": "GdQbiJpPnZgX",
    "tags": []
   },
   "outputs": [],
   "source": [
    "transactions_df['converted_amount'] = transactions_df.apply(lambda x: exchange_rate.loc[x['date']][x['currency']] * x['amount'], axis=1)\n",
    "transfers_df['converted_amount'] = transfers_df.apply(lambda x: exchange_rate.loc[x['date']][x['currency']] * x['amount'], axis=1)"
   ]
  },
  {
   "cell_type": "markdown",
   "id": "681245db-4ce3-4adf-9a94-5d521c980500",
   "metadata": {
    "id": "vITN1_SPrs5z"
   },
   "source": [
    "# Рассчет purchases, balance, deposit"
   ]
  },
  {
   "cell_type": "code",
   "execution_count": 10,
   "id": "576286e9-4277-418d-9d95-7b0f9d4c40ad",
   "metadata": {
    "execution": {
     "iopub.execute_input": "2025-09-14T19:27:46.871870Z",
     "iopub.status.busy": "2025-09-14T19:27:46.871668Z",
     "iopub.status.idle": "2025-09-14T19:27:46.883417Z",
     "shell.execute_reply": "2025-09-14T19:27:46.879142Z",
     "shell.execute_reply.started": "2025-09-14T19:27:46.871850Z"
    },
    "id": "UGRxlfl4pKcp",
    "tags": []
   },
   "outputs": [],
   "source": [
    "transactions_df['date_m'] = transactions_df['date'].str[3:]\n",
    "transfers_df['date_m'] = transfers_df['date'].str[3:]"
   ]
  },
  {
   "cell_type": "code",
   "execution_count": 11,
   "id": "36ce17fb-bb9f-43dd-9610-6303f0c696f7",
   "metadata": {
    "execution": {
     "iopub.execute_input": "2025-09-14T19:27:46.884912Z",
     "iopub.status.busy": "2025-09-14T19:27:46.884713Z",
     "iopub.status.idle": "2025-09-14T19:27:46.899172Z",
     "shell.execute_reply": "2025-09-14T19:27:46.894539Z",
     "shell.execute_reply.started": "2025-09-14T19:27:46.884894Z"
    },
    "id": "6ccIIdPWpnIf",
    "tags": []
   },
   "outputs": [],
   "source": [
    "purchases = transactions_df.groupby(['client_code', 'date_m'])['converted_amount'].sum()"
   ]
  },
  {
   "cell_type": "code",
   "execution_count": 12,
   "id": "cf014572-ba8d-4c96-b0d2-28a6b56757b4",
   "metadata": {
    "execution": {
     "iopub.execute_input": "2025-09-14T19:27:46.899845Z",
     "iopub.status.busy": "2025-09-14T19:27:46.899668Z",
     "iopub.status.idle": "2025-09-14T19:27:46.918272Z",
     "shell.execute_reply": "2025-09-14T19:27:46.917347Z",
     "shell.execute_reply.started": "2025-09-14T19:27:46.899827Z"
    },
    "id": "_hmDwEtss-zu",
    "tags": []
   },
   "outputs": [],
   "source": [
    "deposits = transfers_df[transfers_df['type'] == 'deposit_topup_out'].groupby(['client_code', 'date_m'])['converted_amount'].sum()"
   ]
  },
  {
   "cell_type": "code",
   "execution_count": 13,
   "id": "791ad54b-49a9-4abc-a55e-e5a33523e0dc",
   "metadata": {
    "colab": {
     "base_uri": "https://localhost:8080/",
     "height": 617
    },
    "execution": {
     "iopub.execute_input": "2025-09-14T19:27:46.918880Z",
     "iopub.status.busy": "2025-09-14T19:27:46.918702Z",
     "iopub.status.idle": "2025-09-14T19:27:46.939652Z",
     "shell.execute_reply": "2025-09-14T19:27:46.938947Z",
     "shell.execute_reply.started": "2025-09-14T19:27:46.918856Z"
    },
    "id": "xGijWQXwCpbN",
    "outputId": "e1ac31ec-2468-4b92-dc82-60212203fd98",
    "tags": []
   },
   "outputs": [
    {
     "data": {
      "text/html": [
       "<div>\n",
       "<style scoped>\n",
       "    .dataframe tbody tr th:only-of-type {\n",
       "        vertical-align: middle;\n",
       "    }\n",
       "\n",
       "    .dataframe tbody tr th {\n",
       "        vertical-align: top;\n",
       "    }\n",
       "\n",
       "    .dataframe thead th {\n",
       "        text-align: right;\n",
       "    }\n",
       "</style>\n",
       "<table border=\"1\" class=\"dataframe\">\n",
       "  <thead>\n",
       "    <tr style=\"text-align: right;\">\n",
       "      <th></th>\n",
       "      <th>client_code</th>\n",
       "      <th>name</th>\n",
       "      <th>product</th>\n",
       "      <th>status</th>\n",
       "      <th>city</th>\n",
       "      <th>date</th>\n",
       "      <th>type</th>\n",
       "      <th>direction</th>\n",
       "      <th>amount</th>\n",
       "      <th>currency</th>\n",
       "      <th>converted_amount</th>\n",
       "      <th>date_m</th>\n",
       "    </tr>\n",
       "  </thead>\n",
       "  <tbody>\n",
       "    <tr>\n",
       "      <th>0</th>\n",
       "      <td>1</td>\n",
       "      <td>Айгерим</td>\n",
       "      <td>Карта для путешествий</td>\n",
       "      <td>зп</td>\n",
       "      <td>Алматы</td>\n",
       "      <td>01.06.2025</td>\n",
       "      <td>card_out</td>\n",
       "      <td>out</td>\n",
       "      <td>9359.56</td>\n",
       "      <td>KZT</td>\n",
       "      <td>9359.56</td>\n",
       "      <td>06.2025</td>\n",
       "    </tr>\n",
       "    <tr>\n",
       "      <th>1</th>\n",
       "      <td>1</td>\n",
       "      <td>Айгерим</td>\n",
       "      <td>Карта для путешествий</td>\n",
       "      <td>зп</td>\n",
       "      <td>Алматы</td>\n",
       "      <td>02.06.2025</td>\n",
       "      <td>card_out</td>\n",
       "      <td>out</td>\n",
       "      <td>17590.68</td>\n",
       "      <td>KZT</td>\n",
       "      <td>17590.68</td>\n",
       "      <td>06.2025</td>\n",
       "    </tr>\n",
       "    <tr>\n",
       "      <th>2</th>\n",
       "      <td>1</td>\n",
       "      <td>Айгерим</td>\n",
       "      <td>Карта для путешествий</td>\n",
       "      <td>зп</td>\n",
       "      <td>Алматы</td>\n",
       "      <td>02.06.2025</td>\n",
       "      <td>card_out</td>\n",
       "      <td>out</td>\n",
       "      <td>19677.33</td>\n",
       "      <td>KZT</td>\n",
       "      <td>19677.33</td>\n",
       "      <td>06.2025</td>\n",
       "    </tr>\n",
       "    <tr>\n",
       "      <th>3</th>\n",
       "      <td>1</td>\n",
       "      <td>Айгерим</td>\n",
       "      <td>Карта для путешествий</td>\n",
       "      <td>зп</td>\n",
       "      <td>Алматы</td>\n",
       "      <td>03.06.2025</td>\n",
       "      <td>card_out</td>\n",
       "      <td>out</td>\n",
       "      <td>37686.28</td>\n",
       "      <td>KZT</td>\n",
       "      <td>37686.28</td>\n",
       "      <td>06.2025</td>\n",
       "    </tr>\n",
       "    <tr>\n",
       "      <th>4</th>\n",
       "      <td>1</td>\n",
       "      <td>Айгерим</td>\n",
       "      <td>Карта для путешествий</td>\n",
       "      <td>зп</td>\n",
       "      <td>Алматы</td>\n",
       "      <td>03.06.2025</td>\n",
       "      <td>card_out</td>\n",
       "      <td>out</td>\n",
       "      <td>7880.48</td>\n",
       "      <td>KZT</td>\n",
       "      <td>7880.48</td>\n",
       "      <td>06.2025</td>\n",
       "    </tr>\n",
       "    <tr>\n",
       "      <th>...</th>\n",
       "      <td>...</td>\n",
       "      <td>...</td>\n",
       "      <td>...</td>\n",
       "      <td>...</td>\n",
       "      <td>...</td>\n",
       "      <td>...</td>\n",
       "      <td>...</td>\n",
       "      <td>...</td>\n",
       "      <td>...</td>\n",
       "      <td>...</td>\n",
       "      <td>...</td>\n",
       "      <td>...</td>\n",
       "    </tr>\n",
       "    <tr>\n",
       "      <th>295</th>\n",
       "      <td>1</td>\n",
       "      <td>Айгерим</td>\n",
       "      <td>Карта для путешествий</td>\n",
       "      <td>зп</td>\n",
       "      <td>Алматы</td>\n",
       "      <td>30.08.2025</td>\n",
       "      <td>card_out</td>\n",
       "      <td>out</td>\n",
       "      <td>36485.00</td>\n",
       "      <td>KZT</td>\n",
       "      <td>36485.00</td>\n",
       "      <td>08.2025</td>\n",
       "    </tr>\n",
       "    <tr>\n",
       "      <th>296</th>\n",
       "      <td>1</td>\n",
       "      <td>Айгерим</td>\n",
       "      <td>Карта для путешествий</td>\n",
       "      <td>зп</td>\n",
       "      <td>Алматы</td>\n",
       "      <td>30.08.2025</td>\n",
       "      <td>p2p_out</td>\n",
       "      <td>out</td>\n",
       "      <td>24796.82</td>\n",
       "      <td>KZT</td>\n",
       "      <td>24796.82</td>\n",
       "      <td>08.2025</td>\n",
       "    </tr>\n",
       "    <tr>\n",
       "      <th>297</th>\n",
       "      <td>1</td>\n",
       "      <td>Айгерим</td>\n",
       "      <td>Карта для путешествий</td>\n",
       "      <td>зп</td>\n",
       "      <td>Алматы</td>\n",
       "      <td>31.08.2025</td>\n",
       "      <td>p2p_out</td>\n",
       "      <td>out</td>\n",
       "      <td>18330.69</td>\n",
       "      <td>KZT</td>\n",
       "      <td>18330.69</td>\n",
       "      <td>08.2025</td>\n",
       "    </tr>\n",
       "    <tr>\n",
       "      <th>298</th>\n",
       "      <td>1</td>\n",
       "      <td>Айгерим</td>\n",
       "      <td>Карта для путешествий</td>\n",
       "      <td>зп</td>\n",
       "      <td>Алматы</td>\n",
       "      <td>31.08.2025</td>\n",
       "      <td>card_out</td>\n",
       "      <td>out</td>\n",
       "      <td>16982.82</td>\n",
       "      <td>KZT</td>\n",
       "      <td>16982.82</td>\n",
       "      <td>08.2025</td>\n",
       "    </tr>\n",
       "    <tr>\n",
       "      <th>299</th>\n",
       "      <td>1</td>\n",
       "      <td>Айгерим</td>\n",
       "      <td>Карта для путешествий</td>\n",
       "      <td>зп</td>\n",
       "      <td>Алматы</td>\n",
       "      <td>31.08.2025</td>\n",
       "      <td>card_out</td>\n",
       "      <td>out</td>\n",
       "      <td>43786.54</td>\n",
       "      <td>KZT</td>\n",
       "      <td>43786.54</td>\n",
       "      <td>08.2025</td>\n",
       "    </tr>\n",
       "  </tbody>\n",
       "</table>\n",
       "<p>300 rows × 12 columns</p>\n",
       "</div>"
      ],
      "text/plain": [
       "     client_code     name                product status    city        date  \\\n",
       "0              1  Айгерим  Карта для путешествий     зп  Алматы  01.06.2025   \n",
       "1              1  Айгерим  Карта для путешествий     зп  Алматы  02.06.2025   \n",
       "2              1  Айгерим  Карта для путешествий     зп  Алматы  02.06.2025   \n",
       "3              1  Айгерим  Карта для путешествий     зп  Алматы  03.06.2025   \n",
       "4              1  Айгерим  Карта для путешествий     зп  Алматы  03.06.2025   \n",
       "..           ...      ...                    ...    ...     ...         ...   \n",
       "295            1  Айгерим  Карта для путешествий     зп  Алматы  30.08.2025   \n",
       "296            1  Айгерим  Карта для путешествий     зп  Алматы  30.08.2025   \n",
       "297            1  Айгерим  Карта для путешествий     зп  Алматы  31.08.2025   \n",
       "298            1  Айгерим  Карта для путешествий     зп  Алматы  31.08.2025   \n",
       "299            1  Айгерим  Карта для путешествий     зп  Алматы  31.08.2025   \n",
       "\n",
       "         type direction    amount currency  converted_amount   date_m  \n",
       "0    card_out       out   9359.56      KZT           9359.56  06.2025  \n",
       "1    card_out       out  17590.68      KZT          17590.68  06.2025  \n",
       "2    card_out       out  19677.33      KZT          19677.33  06.2025  \n",
       "3    card_out       out  37686.28      KZT          37686.28  06.2025  \n",
       "4    card_out       out   7880.48      KZT           7880.48  06.2025  \n",
       "..        ...       ...       ...      ...               ...      ...  \n",
       "295  card_out       out  36485.00      KZT          36485.00  08.2025  \n",
       "296   p2p_out       out  24796.82      KZT          24796.82  08.2025  \n",
       "297   p2p_out       out  18330.69      KZT          18330.69  08.2025  \n",
       "298  card_out       out  16982.82      KZT          16982.82  08.2025  \n",
       "299  card_out       out  43786.54      KZT          43786.54  08.2025  \n",
       "\n",
       "[300 rows x 12 columns]"
      ]
     },
     "execution_count": 13,
     "metadata": {},
     "output_type": "execute_result"
    }
   ],
   "source": [
    "transfers_df"
   ]
  },
  {
   "cell_type": "code",
   "execution_count": 14,
   "id": "a9e85ff2-73ea-48d9-a2f5-29d2c229daa3",
   "metadata": {
    "execution": {
     "iopub.execute_input": "2025-09-14T19:27:46.940791Z",
     "iopub.status.busy": "2025-09-14T19:27:46.940383Z",
     "iopub.status.idle": "2025-09-14T19:27:46.944985Z",
     "shell.execute_reply": "2025-09-14T19:27:46.944264Z",
     "shell.execute_reply.started": "2025-09-14T19:27:46.940770Z"
    },
    "id": "LyjnbzPFDPnn",
    "tags": []
   },
   "outputs": [],
   "source": [
    "transfers_df.loc[transfers_df['type'] == 'invest_in', 'converted_amount'] *= -1\n"
   ]
  },
  {
   "cell_type": "code",
   "execution_count": 15,
   "id": "31fac6cd-0c7e-4806-8763-044055c2f2e0",
   "metadata": {
    "execution": {
     "iopub.execute_input": "2025-09-14T19:27:46.945880Z",
     "iopub.status.busy": "2025-09-14T19:27:46.945695Z",
     "iopub.status.idle": "2025-09-14T19:27:46.953178Z",
     "shell.execute_reply": "2025-09-14T19:27:46.951586Z",
     "shell.execute_reply.started": "2025-09-14T19:27:46.945863Z"
    },
    "id": "o7R_1tzcC-FX",
    "tags": []
   },
   "outputs": [],
   "source": [
    "invest = transfers_df[transfers_df['type'].isin(['invest_out', 'invest_in'])].groupby(['client_code', 'date_m'])['converted_amount'].sum()"
   ]
  },
  {
   "cell_type": "code",
   "execution_count": 16,
   "id": "ab891821-7cb5-4c1f-8366-62d9e5002017",
   "metadata": {
    "execution": {
     "iopub.execute_input": "2025-09-14T19:27:46.953762Z",
     "iopub.status.busy": "2025-09-14T19:27:46.953585Z",
     "iopub.status.idle": "2025-09-14T19:27:46.960132Z",
     "shell.execute_reply": "2025-09-14T19:27:46.958482Z",
     "shell.execute_reply.started": "2025-09-14T19:27:46.953745Z"
    },
    "id": "K09GMYpsDhGJ",
    "tags": []
   },
   "outputs": [],
   "source": [
    "transfers_df.loc[transfers_df['type'] == 'invest_in', 'converted_amount'] *= -1\n"
   ]
  },
  {
   "cell_type": "code",
   "execution_count": null,
   "id": "b75563ea-5497-4465-ad35-cac586b6a621",
   "metadata": {
    "id": "LnY7D7IIPRab"
   },
   "outputs": [],
   "source": []
  },
  {
   "cell_type": "code",
   "execution_count": 17,
   "id": "5408bc1f-0e64-4bfe-9cdf-9da6d23ff48e",
   "metadata": {
    "execution": {
     "iopub.execute_input": "2025-09-14T19:27:46.960720Z",
     "iopub.status.busy": "2025-09-14T19:27:46.960560Z",
     "iopub.status.idle": "2025-09-14T19:27:46.969888Z",
     "shell.execute_reply": "2025-09-14T19:27:46.967496Z",
     "shell.execute_reply.started": "2025-09-14T19:27:46.960704Z"
    },
    "id": "vraKJywD8TVo",
    "tags": []
   },
   "outputs": [],
   "source": [
    "client_info = client[['client_code', 'avg_monthly_balance_KZT']]"
   ]
  },
  {
   "cell_type": "code",
   "execution_count": 18,
   "id": "fe6f4ca5-8667-458a-90c6-2ae3dcf81455",
   "metadata": {
    "execution": {
     "iopub.execute_input": "2025-09-14T19:27:46.971280Z",
     "iopub.status.busy": "2025-09-14T19:27:46.970321Z",
     "iopub.status.idle": "2025-09-14T19:27:46.986265Z",
     "shell.execute_reply": "2025-09-14T19:27:46.983508Z",
     "shell.execute_reply.started": "2025-09-14T19:27:46.971255Z"
    },
    "id": "8yqiMyJEuknu",
    "tags": []
   },
   "outputs": [],
   "source": [
    "purchases_deposits = pd.merge(purchases, deposits, on=['client_code', 'date_m'], how='outer')\n",
    "purchases_deposits = pd.merge(purchases_deposits, invest, on=['client_code', 'date_m'], how='outer')\n",
    "purchases_deposits.reset_index(inplace=True)"
   ]
  },
  {
   "cell_type": "code",
   "execution_count": 19,
   "id": "b28108de-1355-4660-85c7-7b235b3a34c9",
   "metadata": {
    "execution": {
     "iopub.execute_input": "2025-09-14T19:27:46.986857Z",
     "iopub.status.busy": "2025-09-14T19:27:46.986690Z",
     "iopub.status.idle": "2025-09-14T19:27:46.999570Z",
     "shell.execute_reply": "2025-09-14T19:27:46.996976Z",
     "shell.execute_reply.started": "2025-09-14T19:27:46.986841Z"
    },
    "id": "r-xXWF_Wzljs",
    "tags": []
   },
   "outputs": [],
   "source": [
    "client_info = pd.merge(purchases_deposits, client_info, on='client_code', how='outer')\n",
    "client_info.fillna(0, inplace=True)"
   ]
  },
  {
   "cell_type": "code",
   "execution_count": 20,
   "id": "6ced36fc-f196-4915-af2a-d9aba5f15efb",
   "metadata": {
    "execution": {
     "iopub.execute_input": "2025-09-14T19:27:47.000147Z",
     "iopub.status.busy": "2025-09-14T19:27:46.999982Z",
     "iopub.status.idle": "2025-09-14T19:27:47.012885Z",
     "shell.execute_reply": "2025-09-14T19:27:47.008986Z",
     "shell.execute_reply.started": "2025-09-14T19:27:47.000131Z"
    },
    "id": "5qG8OIYyzq04",
    "tags": []
   },
   "outputs": [],
   "source": [
    "client_info.rename(columns={'converted_amount_x': 'purchase', 'converted_amount_y': 'deposit', 'converted_amount': 'invest'}, inplace=True)"
   ]
  },
  {
   "cell_type": "code",
   "execution_count": 21,
   "id": "7cde8e0e-89bd-4249-902a-8b5b8e618d0a",
   "metadata": {
    "colab": {
     "base_uri": "https://localhost:8080/",
     "height": 423
    },
    "execution": {
     "iopub.execute_input": "2025-09-14T19:27:47.013520Z",
     "iopub.status.busy": "2025-09-14T19:27:47.013324Z",
     "iopub.status.idle": "2025-09-14T19:27:47.031288Z",
     "shell.execute_reply": "2025-09-14T19:27:47.027914Z",
     "shell.execute_reply.started": "2025-09-14T19:27:47.013502Z"
    },
    "id": "YYGXUp4c9JHv",
    "outputId": "54f9bd0c-c88e-48a4-e90b-db178df71c1e",
    "tags": []
   },
   "outputs": [
    {
     "data": {
      "text/html": [
       "<div>\n",
       "<style scoped>\n",
       "    .dataframe tbody tr th:only-of-type {\n",
       "        vertical-align: middle;\n",
       "    }\n",
       "\n",
       "    .dataframe tbody tr th {\n",
       "        vertical-align: top;\n",
       "    }\n",
       "\n",
       "    .dataframe thead th {\n",
       "        text-align: right;\n",
       "    }\n",
       "</style>\n",
       "<table border=\"1\" class=\"dataframe\">\n",
       "  <thead>\n",
       "    <tr style=\"text-align: right;\">\n",
       "      <th></th>\n",
       "      <th>client_code</th>\n",
       "      <th>date_m</th>\n",
       "      <th>purchase</th>\n",
       "      <th>deposit</th>\n",
       "      <th>invest</th>\n",
       "      <th>avg_monthly_balance_KZT</th>\n",
       "    </tr>\n",
       "  </thead>\n",
       "  <tbody>\n",
       "    <tr>\n",
       "      <th>0</th>\n",
       "      <td>1</td>\n",
       "      <td>06.2025</td>\n",
       "      <td>770614.49</td>\n",
       "      <td>0.0</td>\n",
       "      <td>0.0</td>\n",
       "      <td>92643</td>\n",
       "    </tr>\n",
       "    <tr>\n",
       "      <th>1</th>\n",
       "      <td>1</td>\n",
       "      <td>07.2025</td>\n",
       "      <td>1118856.15</td>\n",
       "      <td>0.0</td>\n",
       "      <td>0.0</td>\n",
       "      <td>92643</td>\n",
       "    </tr>\n",
       "    <tr>\n",
       "      <th>2</th>\n",
       "      <td>1</td>\n",
       "      <td>08.2025</td>\n",
       "      <td>737443.63</td>\n",
       "      <td>0.0</td>\n",
       "      <td>0.0</td>\n",
       "      <td>92643</td>\n",
       "    </tr>\n",
       "  </tbody>\n",
       "</table>\n",
       "</div>"
      ],
      "text/plain": [
       "   client_code   date_m    purchase  deposit  invest  avg_monthly_balance_KZT\n",
       "0            1  06.2025   770614.49      0.0     0.0                    92643\n",
       "1            1  07.2025  1118856.15      0.0     0.0                    92643\n",
       "2            1  08.2025   737443.63      0.0     0.0                    92643"
      ]
     },
     "execution_count": 21,
     "metadata": {},
     "output_type": "execute_result"
    }
   ],
   "source": [
    "client_info"
   ]
  },
  {
   "cell_type": "markdown",
   "id": "d2ff82c5-b91e-45ec-be51-176247dd2edd",
   "metadata": {
    "id": "EnXWXSEh97Wa"
   },
   "source": [
    "# Card costs\n"
   ]
  },
  {
   "cell_type": "code",
   "execution_count": 22,
   "id": "cffb7c6e-555b-4bb5-844c-743a4bf53446",
   "metadata": {
    "execution": {
     "iopub.execute_input": "2025-09-14T19:27:47.034716Z",
     "iopub.status.busy": "2025-09-14T19:27:47.034538Z",
     "iopub.status.idle": "2025-09-14T19:27:47.042858Z",
     "shell.execute_reply": "2025-09-14T19:27:47.042345Z",
     "shell.execute_reply.started": "2025-09-14T19:27:47.034699Z"
    },
    "id": "dP-UvaGX6tRK",
    "tags": []
   },
   "outputs": [],
   "source": [
    "client_info[\"travelcard_cost\"] = client_info.apply(\n",
    "    lambda x: 0 if (x['purchase'] >= 500000\n",
    "                    or x['avg_monthly_balance_KZT'] > 3000000\n",
    "                    or x['deposit'] > 3000000)\n",
    "    else travelcard_price,\n",
    "    axis=1\n",
    ")\n"
   ]
  },
  {
   "cell_type": "code",
   "execution_count": 23,
   "id": "48632c0a-e54d-41ce-96ca-384d22a49152",
   "metadata": {
    "execution": {
     "iopub.execute_input": "2025-09-14T19:27:47.043415Z",
     "iopub.status.busy": "2025-09-14T19:27:47.043238Z",
     "iopub.status.idle": "2025-09-14T19:27:47.062317Z",
     "shell.execute_reply": "2025-09-14T19:27:47.057684Z",
     "shell.execute_reply.started": "2025-09-14T19:27:47.043398Z"
    },
    "id": "Tv1Am83EBa0s",
    "tags": []
   },
   "outputs": [],
   "source": [
    "client_info[\"premium_cost\"] = client_info.apply(\n",
    "    lambda x: 0 if (x['purchase'] >= 1000000\n",
    "                    or x['avg_monthly_balance_KZT'] > 15000000\n",
    "                    or x['deposit'] > 15000000)\n",
    "    else premium_price,\n",
    "    axis=1\n",
    ")\n"
   ]
  },
  {
   "cell_type": "code",
   "execution_count": 24,
   "id": "3eb9b99d-3ecb-4c2c-98cc-bc96bf6d26d8",
   "metadata": {
    "execution": {
     "iopub.execute_input": "2025-09-14T19:27:47.062937Z",
     "iopub.status.busy": "2025-09-14T19:27:47.062777Z",
     "iopub.status.idle": "2025-09-14T19:27:47.069516Z",
     "shell.execute_reply": "2025-09-14T19:27:47.068295Z",
     "shell.execute_reply.started": "2025-09-14T19:27:47.062920Z"
    },
    "id": "QjVcuc4OUMBo",
    "tags": []
   },
   "outputs": [],
   "source": [
    "client_info[\"credit_card\"] = 0"
   ]
  },
  {
   "cell_type": "code",
   "execution_count": null,
   "id": "4e19dc68-cb59-4f4b-86a0-0061bbb4d73d",
   "metadata": {
    "id": "jynDmIX8UMGF"
   },
   "outputs": [],
   "source": []
  },
  {
   "cell_type": "markdown",
   "id": "68f1e250-9218-4188-9f47-a046f48823d1",
   "metadata": {
    "id": "m7ZNaWqIRQ42"
   },
   "source": [
    "# Travel card cashback\n"
   ]
  },
  {
   "cell_type": "code",
   "execution_count": 25,
   "id": "0c82854e-df7d-4c37-92ee-080f66fae74e",
   "metadata": {
    "execution": {
     "iopub.execute_input": "2025-09-14T19:27:47.070287Z",
     "iopub.status.busy": "2025-09-14T19:27:47.070069Z",
     "iopub.status.idle": "2025-09-14T19:27:47.075852Z",
     "shell.execute_reply": "2025-09-14T19:27:47.075097Z",
     "shell.execute_reply.started": "2025-09-14T19:27:47.070269Z"
    },
    "id": "MijOhT-EUMId",
    "tags": []
   },
   "outputs": [],
   "source": [
    "travel_cashback_4percent = ['Путешествия', 'Tакси', 'Поезда', 'Самолеты', 'Авиабилеты', 'Отели', 'Аренда авто', 'Авто']"
   ]
  },
  {
   "cell_type": "code",
   "execution_count": 26,
   "id": "30a3b330-2b89-4cb4-8997-bace6ba80554",
   "metadata": {
    "colab": {
     "base_uri": "https://localhost:8080/",
     "height": 774
    },
    "execution": {
     "iopub.execute_input": "2025-09-14T19:27:47.077169Z",
     "iopub.status.busy": "2025-09-14T19:27:47.076892Z",
     "iopub.status.idle": "2025-09-14T19:27:47.105740Z",
     "shell.execute_reply": "2025-09-14T19:27:47.102402Z",
     "shell.execute_reply.started": "2025-09-14T19:27:47.077151Z"
    },
    "id": "JgkIuBxUUI6o",
    "outputId": "8bcc01bc-0f08-49cf-f7b1-2abca193d2d5",
    "tags": []
   },
   "outputs": [
    {
     "data": {
      "text/plain": [
       "client_code  date_m \n",
       "1            06.2025     1584.9456\n",
       "             07.2025    14795.8860\n",
       "Name: travel_cashback, dtype: float64"
      ]
     },
     "execution_count": 26,
     "metadata": {},
     "output_type": "execute_result"
    }
   ],
   "source": [
    "travel_cashback = transactions_df[transactions_df['category'].isin(travel_cashback_4percent)].groupby(['client_code', 'date_m'])['converted_amount'].sum()\n",
    "travel_cashback *= 0.04\n",
    "travel_cashback.rename('travel_cashback', inplace=True)\n"
   ]
  },
  {
   "cell_type": "code",
   "execution_count": 27,
   "id": "513cb71f-3257-431f-8e1f-b7775cf14d5d",
   "metadata": {
    "execution": {
     "iopub.execute_input": "2025-09-14T19:27:47.106722Z",
     "iopub.status.busy": "2025-09-14T19:27:47.106200Z",
     "iopub.status.idle": "2025-09-14T19:27:47.170400Z",
     "shell.execute_reply": "2025-09-14T19:27:47.122055Z",
     "shell.execute_reply.started": "2025-09-14T19:27:47.106702Z"
    },
    "id": "I_Y-KQjoSeBV",
    "tags": []
   },
   "outputs": [],
   "source": [
    "client_info = pd.merge(client_info, travel_cashback, on=['client_code', 'date_m'], how='outer')\n",
    "client_info.fillna(0, inplace=True)\n"
   ]
  },
  {
   "cell_type": "code",
   "execution_count": 28,
   "id": "cb4dfb68-5bb6-4b76-8216-95a964b7b2c5",
   "metadata": {
    "colab": {
     "base_uri": "https://localhost:8080/"
    },
    "execution": {
     "iopub.execute_input": "2025-09-14T19:27:47.171086Z",
     "iopub.status.busy": "2025-09-14T19:27:47.170909Z",
     "iopub.status.idle": "2025-09-14T19:27:47.338592Z",
     "shell.execute_reply": "2025-09-14T19:27:47.337429Z",
     "shell.execute_reply.started": "2025-09-14T19:27:47.171069Z"
    },
    "id": "7OlxoRQMUIH8",
    "outputId": "e94160ca-7c3f-4948-add3-3518992ac092",
    "tags": []
   },
   "outputs": [
    {
     "data": {
      "text/plain": [
       "array([ 1584.9456, 14795.886 ,     0.    ])"
      ]
     },
     "execution_count": 28,
     "metadata": {},
     "output_type": "execute_result"
    }
   ],
   "source": [
    "client_info['travel_cashback'].unique()"
   ]
  },
  {
   "cell_type": "markdown",
   "id": "45bbbef6-1668-4cf5-8b8a-33c47d9fadf5",
   "metadata": {
    "id": "8z6na7VOS6iD"
   },
   "source": [
    "# Premium cashback"
   ]
  },
  {
   "cell_type": "code",
   "execution_count": 29,
   "id": "66e763dd-51a3-4baa-8c29-043db2c9a918",
   "metadata": {
    "execution": {
     "iopub.execute_input": "2025-09-14T19:27:47.339554Z",
     "iopub.status.busy": "2025-09-14T19:27:47.339139Z",
     "iopub.status.idle": "2025-09-14T19:27:47.345350Z",
     "shell.execute_reply": "2025-09-14T19:27:47.344780Z",
     "shell.execute_reply.started": "2025-09-14T19:27:47.339533Z"
    },
    "id": "b6TR6EIdSTdi",
    "tags": []
   },
   "outputs": [],
   "source": [
    "vklad = client_info.groupby(['client_code'])['deposit'].sum() + client_info.groupby(['client_code'])['invest'].sum()"
   ]
  },
  {
   "cell_type": "code",
   "execution_count": 30,
   "id": "16011837-b983-4a22-8848-4f944c724654",
   "metadata": {
    "execution": {
     "iopub.execute_input": "2025-09-14T19:27:47.346716Z",
     "iopub.status.busy": "2025-09-14T19:27:47.346214Z",
     "iopub.status.idle": "2025-09-14T19:27:47.352196Z",
     "shell.execute_reply": "2025-09-14T19:27:47.351167Z",
     "shell.execute_reply.started": "2025-09-14T19:27:47.346689Z"
    },
    "id": "ogvFTmPPUYCF",
    "tags": []
   },
   "outputs": [],
   "source": [
    "percent = np.select(\n",
    "    [\n",
    "        vklad >= 6000000,\n",
    "        vklad >= 1000000\n",
    "    ],\n",
    "    [\n",
    "        0.04,\n",
    "        0.03\n",
    "    ],\n",
    "    default=0.02\n",
    ")\n",
    "\n",
    "percent = pd.Series(percent, index=vklad.index, name=\"percent\")"
   ]
  },
  {
   "cell_type": "code",
   "execution_count": 31,
   "id": "065381c9-dd7e-462a-a829-8864e4d35cb4",
   "metadata": {
    "colab": {
     "base_uri": "https://localhost:8080/",
     "height": 489
    },
    "execution": {
     "iopub.execute_input": "2025-09-14T19:27:47.353174Z",
     "iopub.status.busy": "2025-09-14T19:27:47.352987Z",
     "iopub.status.idle": "2025-09-14T19:27:47.367690Z",
     "shell.execute_reply": "2025-09-14T19:27:47.366092Z",
     "shell.execute_reply.started": "2025-09-14T19:27:47.353156Z"
    },
    "id": "GgnK5XYOSVHx",
    "outputId": "6e3c7b5c-d0fa-46b5-d1e7-a0c1d145138e",
    "tags": []
   },
   "outputs": [
    {
     "data": {
      "text/plain": [
       "client_code  date_m \n",
       "1            06.2025    15412.2898\n",
       "             07.2025    22377.1230\n",
       "             08.2025    14748.8726\n",
       "Name: premium_cashback, dtype: float64"
      ]
     },
     "execution_count": 31,
     "metadata": {},
     "output_type": "execute_result"
    }
   ],
   "source": [
    "premium_cashback = transactions_df.groupby(['client_code', 'date_m'])['converted_amount'].sum()\n",
    "premium_cashback = (\n",
    "    premium_cashback *\n",
    "    premium_cashback.index.get_level_values(0).map(percent).fillna(0.02)\n",
    ")\n",
    "premium_cashback.rename('premium_cashback', inplace=True)\n"
   ]
  },
  {
   "cell_type": "code",
   "execution_count": 32,
   "id": "9d39165c-a0f1-492c-b784-aa26bfef7b13",
   "metadata": {
    "execution": {
     "iopub.execute_input": "2025-09-14T19:27:47.368464Z",
     "iopub.status.busy": "2025-09-14T19:27:47.368278Z",
     "iopub.status.idle": "2025-09-14T19:27:47.378516Z",
     "shell.execute_reply": "2025-09-14T19:27:47.376476Z",
     "shell.execute_reply.started": "2025-09-14T19:27:47.368446Z"
    },
    "id": "LgUISxNYWuP3",
    "tags": []
   },
   "outputs": [],
   "source": [
    "client_info = pd.merge(client_info, premium_cashback, on=['client_code', 'date_m'], how='outer')\n",
    "client_info.fillna(0, inplace=True)\n"
   ]
  },
  {
   "cell_type": "markdown",
   "id": "9bbc948e-5d33-4c3d-a4f0-772f909a5216",
   "metadata": {
    "id": "JYYgopOIYcqh"
   },
   "source": [
    "# Credit card cashback"
   ]
  },
  {
   "cell_type": "code",
   "execution_count": null,
   "id": "3eb51c2f-e52d-4b1e-8790-4cb7d9140f06",
   "metadata": {
    "id": "M8e-Ft92ZPbU"
   },
   "outputs": [],
   "source": []
  },
  {
   "cell_type": "code",
   "execution_count": 33,
   "id": "ffcb7f87-a26d-4b6a-86c7-83cbc7c978db",
   "metadata": {
    "colab": {
     "base_uri": "https://localhost:8080/",
     "height": 544
    },
    "execution": {
     "iopub.execute_input": "2025-09-14T19:27:47.379389Z",
     "iopub.status.busy": "2025-09-14T19:27:47.378938Z",
     "iopub.status.idle": "2025-09-14T19:27:47.403717Z",
     "shell.execute_reply": "2025-09-14T19:27:47.403270Z",
     "shell.execute_reply.started": "2025-09-14T19:27:47.379369Z"
    },
    "id": "CYKd_eYoYge1",
    "outputId": "a621028b-b824-4294-e085-e6bbc45460d7",
    "tags": []
   },
   "outputs": [
    {
     "data": {
      "text/plain": [
       "client_code  date_m \n",
       "1            06.2025    474228.12\n",
       "             07.2025    650310.66\n",
       "             08.2025    437614.47\n",
       "Name: credit_card_cashback, dtype: float64"
      ]
     },
     "execution_count": 33,
     "metadata": {},
     "output_type": "execute_result"
    }
   ],
   "source": [
    "credit_card_cashback = (\n",
    "    transactions_df\n",
    "    .groupby(['client_code', 'date_m'])\n",
    "    .apply(lambda g: g[['category', 'converted_amount']]\n",
    "                   .groupby('category')['converted_amount']\n",
    "                   .sum()\n",
    "                   .nlargest(3)\n",
    "                   .sum())\n",
    ")\n",
    "credit_card_cashback.rename('credit_card_cashback', inplace=True)"
   ]
  },
  {
   "cell_type": "code",
   "execution_count": 34,
   "id": "1be89d03-4e42-4dae-9605-9436aea59405",
   "metadata": {
    "execution": {
     "iopub.execute_input": "2025-09-14T19:27:47.404259Z",
     "iopub.status.busy": "2025-09-14T19:27:47.404094Z",
     "iopub.status.idle": "2025-09-14T19:27:47.414580Z",
     "shell.execute_reply": "2025-09-14T19:27:47.412968Z",
     "shell.execute_reply.started": "2025-09-14T19:27:47.404242Z"
    },
    "id": "W3YH3Y4WZTyN",
    "tags": []
   },
   "outputs": [],
   "source": [
    "credit_card_cashback *= 0.1"
   ]
  },
  {
   "cell_type": "code",
   "execution_count": 35,
   "id": "bb39d984-3eaf-4a0b-994d-a195779a379d",
   "metadata": {
    "execution": {
     "iopub.execute_input": "2025-09-14T19:27:47.415404Z",
     "iopub.status.busy": "2025-09-14T19:27:47.415068Z",
     "iopub.status.idle": "2025-09-14T19:27:47.429651Z",
     "shell.execute_reply": "2025-09-14T19:27:47.428236Z",
     "shell.execute_reply.started": "2025-09-14T19:27:47.415385Z"
    },
    "id": "9pGc8Cdraib3",
    "tags": []
   },
   "outputs": [],
   "source": [
    "client_info = pd.merge(client_info, credit_card_cashback, on=['client_code', 'date_m'], how='outer')\n",
    "client_info.fillna(0, inplace=True)\n"
   ]
  },
  {
   "cell_type": "code",
   "execution_count": 36,
   "id": "4dc6f021-c56e-4435-b9c5-3ab74d0ff29c",
   "metadata": {
    "execution": {
     "iopub.execute_input": "2025-09-14T19:27:47.430239Z",
     "iopub.status.busy": "2025-09-14T19:27:47.430074Z",
     "iopub.status.idle": "2025-09-14T19:27:47.442229Z",
     "shell.execute_reply": "2025-09-14T19:27:47.441656Z",
     "shell.execute_reply.started": "2025-09-14T19:27:47.430222Z"
    },
    "id": "4V2PQp-ZbiYm",
    "tags": []
   },
   "outputs": [],
   "source": [
    "client_info['travel_cashback'] = client_info['travel_cashback'].apply(lambda x: min(x, travel_cashback_limit))\n",
    "client_info['premium_cashback'] = client_info['premium_cashback'].apply(lambda x: min(x, premium_cashback_limit))"
   ]
  },
  {
   "cell_type": "code",
   "execution_count": 37,
   "id": "f7077076-3090-4e53-94b1-94f9c3ff276f",
   "metadata": {
    "execution": {
     "iopub.execute_input": "2025-09-14T19:27:47.443089Z",
     "iopub.status.busy": "2025-09-14T19:27:47.442916Z",
     "iopub.status.idle": "2025-09-14T19:27:47.458653Z",
     "shell.execute_reply": "2025-09-14T19:27:47.457742Z",
     "shell.execute_reply.started": "2025-09-14T19:27:47.443072Z"
    },
    "tags": []
   },
   "outputs": [
    {
     "data": {
      "text/html": [
       "<div>\n",
       "<style scoped>\n",
       "    .dataframe tbody tr th:only-of-type {\n",
       "        vertical-align: middle;\n",
       "    }\n",
       "\n",
       "    .dataframe tbody tr th {\n",
       "        vertical-align: top;\n",
       "    }\n",
       "\n",
       "    .dataframe thead th {\n",
       "        text-align: right;\n",
       "    }\n",
       "</style>\n",
       "<table border=\"1\" class=\"dataframe\">\n",
       "  <thead>\n",
       "    <tr style=\"text-align: right;\">\n",
       "      <th></th>\n",
       "      <th>client_code</th>\n",
       "      <th>date_m</th>\n",
       "      <th>purchase</th>\n",
       "      <th>deposit</th>\n",
       "      <th>invest</th>\n",
       "      <th>avg_monthly_balance_KZT</th>\n",
       "      <th>travelcard_cost</th>\n",
       "      <th>premium_cost</th>\n",
       "      <th>credit_card</th>\n",
       "      <th>travel_cashback</th>\n",
       "      <th>premium_cashback</th>\n",
       "      <th>credit_card_cashback</th>\n",
       "    </tr>\n",
       "  </thead>\n",
       "  <tbody>\n",
       "    <tr>\n",
       "      <th>0</th>\n",
       "      <td>1</td>\n",
       "      <td>06.2025</td>\n",
       "      <td>770614.49</td>\n",
       "      <td>0.0</td>\n",
       "      <td>0.0</td>\n",
       "      <td>92643</td>\n",
       "      <td>0</td>\n",
       "      <td>-10000</td>\n",
       "      <td>0</td>\n",
       "      <td>1584.9456</td>\n",
       "      <td>15412.2898</td>\n",
       "      <td>47422.812</td>\n",
       "    </tr>\n",
       "    <tr>\n",
       "      <th>1</th>\n",
       "      <td>1</td>\n",
       "      <td>07.2025</td>\n",
       "      <td>1118856.15</td>\n",
       "      <td>0.0</td>\n",
       "      <td>0.0</td>\n",
       "      <td>92643</td>\n",
       "      <td>0</td>\n",
       "      <td>0</td>\n",
       "      <td>0</td>\n",
       "      <td>14795.8860</td>\n",
       "      <td>22377.1230</td>\n",
       "      <td>65031.066</td>\n",
       "    </tr>\n",
       "    <tr>\n",
       "      <th>2</th>\n",
       "      <td>1</td>\n",
       "      <td>08.2025</td>\n",
       "      <td>737443.63</td>\n",
       "      <td>0.0</td>\n",
       "      <td>0.0</td>\n",
       "      <td>92643</td>\n",
       "      <td>0</td>\n",
       "      <td>-10000</td>\n",
       "      <td>0</td>\n",
       "      <td>0.0000</td>\n",
       "      <td>14748.8726</td>\n",
       "      <td>43761.447</td>\n",
       "    </tr>\n",
       "  </tbody>\n",
       "</table>\n",
       "</div>"
      ],
      "text/plain": [
       "   client_code   date_m    purchase  deposit  invest  avg_monthly_balance_KZT  \\\n",
       "0            1  06.2025   770614.49      0.0     0.0                    92643   \n",
       "1            1  07.2025  1118856.15      0.0     0.0                    92643   \n",
       "2            1  08.2025   737443.63      0.0     0.0                    92643   \n",
       "\n",
       "   travelcard_cost  premium_cost  credit_card  travel_cashback  \\\n",
       "0                0        -10000            0        1584.9456   \n",
       "1                0             0            0       14795.8860   \n",
       "2                0        -10000            0           0.0000   \n",
       "\n",
       "   premium_cashback  credit_card_cashback  \n",
       "0        15412.2898             47422.812  \n",
       "1        22377.1230             65031.066  \n",
       "2        14748.8726             43761.447  "
      ]
     },
     "execution_count": 37,
     "metadata": {},
     "output_type": "execute_result"
    }
   ],
   "source": [
    "client_info"
   ]
  },
  {
   "cell_type": "code",
   "execution_count": null,
   "id": "7baf8d07-abf2-48cd-aba7-a33f420c0a03",
   "metadata": {},
   "outputs": [],
   "source": []
  },
  {
   "cell_type": "markdown",
   "id": "5590bf53-d9ee-4cd0-abc9-73360cebb885",
   "metadata": {
    "id": "bNTTEuaIcqXY"
   },
   "source": [
    "# Transfers\n"
   ]
  },
  {
   "cell_type": "code",
   "execution_count": 38,
   "id": "26718b36-86a5-4816-b8bc-270803848b73",
   "metadata": {
    "colab": {
     "base_uri": "https://localhost:8080/"
    },
    "execution": {
     "iopub.execute_input": "2025-09-14T19:27:47.460668Z",
     "iopub.status.busy": "2025-09-14T19:27:47.459366Z",
     "iopub.status.idle": "2025-09-14T19:27:47.473608Z",
     "shell.execute_reply": "2025-09-14T19:27:47.472195Z",
     "shell.execute_reply.started": "2025-09-14T19:27:47.460635Z"
    },
    "id": "veKRCaCTl3Sa",
    "outputId": "b3482881-4b8c-44a0-8daa-b168605e2b54"
   },
   "outputs": [
    {
     "data": {
      "text/plain": [
       "array(['card_out', 'p2p_out', 'atm_withdrawal', 'utilities_out',\n",
       "       'cashback_in', 'loan_payment_out', 'card_in', 'salary_in',\n",
       "       'refund_in'], dtype=object)"
      ]
     },
     "execution_count": 38,
     "metadata": {},
     "output_type": "execute_result"
    }
   ],
   "source": [
    "transfers_df['type'].unique()"
   ]
  },
  {
   "cell_type": "code",
   "execution_count": 39,
   "id": "068c0457-8423-441e-9dab-53ae2ddd4a75",
   "metadata": {
    "colab": {
     "base_uri": "https://localhost:8080/"
    },
    "execution": {
     "iopub.execute_input": "2025-09-14T19:27:47.475336Z",
     "iopub.status.busy": "2025-09-14T19:27:47.474777Z",
     "iopub.status.idle": "2025-09-14T19:27:47.483739Z",
     "shell.execute_reply": "2025-09-14T19:27:47.482904Z",
     "shell.execute_reply.started": "2025-09-14T19:27:47.475312Z"
    },
    "id": "kc2l40NvluIm",
    "outputId": "0b32610f-d71c-4551-fbbb-37a8fac0b38a",
    "tags": []
   },
   "outputs": [],
   "source": [
    "import pandas as pd\n",
    "\n",
    "invest_ops = ['invest_out', 'invest_in']\n",
    "fx_ops = ['fx_buy', 'fx_sell']\n",
    "gold_ops = ['gold_buy_out', 'gold_sell_in']\n",
    "credit_ops = ['loan_payment_out', 'cc_repayment_out', 'installment_payment_out']\n",
    "\n",
    "agg_df = (\n",
    "    transfers_df\n",
    "    .groupby(['client_code', 'date_m'])\n",
    "    .apply(lambda g: pd.Series({\n",
    "        'fx_count': g[g['type'].isin(fx_ops)].shape[0],\n",
    "    }))\n",
    ")\n"
   ]
  },
  {
   "cell_type": "code",
   "execution_count": 40,
   "id": "7e8a8bf3-2ddf-41a2-882c-f949bac20b1e",
   "metadata": {
    "execution": {
     "iopub.execute_input": "2025-09-14T19:27:47.484948Z",
     "iopub.status.busy": "2025-09-14T19:27:47.484473Z",
     "iopub.status.idle": "2025-09-14T19:27:47.492260Z",
     "shell.execute_reply": "2025-09-14T19:27:47.490650Z",
     "shell.execute_reply.started": "2025-09-14T19:27:47.484928Z"
    },
    "id": "ZR79B6Mmtmbs",
    "tags": []
   },
   "outputs": [],
   "source": [
    "client_info = pd.merge(client_info, agg_df, on=['client_code', 'date_m'], how='outer')\n",
    "client_info.fillna(0, inplace=True)\n"
   ]
  },
  {
   "cell_type": "markdown",
   "id": "464f81b1-e9c0-437b-ae00-f70dc8f579f2",
   "metadata": {
    "execution": {
     "iopub.execute_input": "2025-09-14T19:24:06.773431Z",
     "iopub.status.busy": "2025-09-14T19:24:06.770196Z",
     "iopub.status.idle": "2025-09-14T19:24:06.782508Z",
     "shell.execute_reply": "2025-09-14T19:24:06.780650Z",
     "shell.execute_reply.started": "2025-09-14T19:24:06.773401Z"
    },
    "tags": []
   },
   "source": [
    "# Logic"
   ]
  },
  {
   "cell_type": "code",
   "execution_count": 41,
   "id": "5eb63dfa-5501-457b-897d-59ac97eeb24c",
   "metadata": {
    "execution": {
     "iopub.execute_input": "2025-09-14T19:27:47.492899Z",
     "iopub.status.busy": "2025-09-14T19:27:47.492730Z",
     "iopub.status.idle": "2025-09-14T19:27:47.504786Z",
     "shell.execute_reply": "2025-09-14T19:27:47.503396Z",
     "shell.execute_reply.started": "2025-09-14T19:27:47.492882Z"
    },
    "id": "PX2iK_7lwz-1",
    "tags": []
   },
   "outputs": [],
   "source": [
    "client_info['premium_cashback'] = client_info['premium_cost'] + client_info['premium_cashback']\n",
    "client_info['travel_cashback'] = client_info['travelcard_cost'] + client_info['travel_cashback']\n",
    "\n",
    "client_info.drop(columns=['travelcard_cost', 'premium_cost', 'credit_card'], inplace=True)"
   ]
  },
  {
   "cell_type": "code",
   "execution_count": 42,
   "id": "00690bb2-9173-4c97-bc5e-cf2f3d1828c5",
   "metadata": {
    "execution": {
     "iopub.execute_input": "2025-09-14T19:27:47.505391Z",
     "iopub.status.busy": "2025-09-14T19:27:47.505226Z",
     "iopub.status.idle": "2025-09-14T19:27:47.514895Z",
     "shell.execute_reply": "2025-09-14T19:27:47.511926Z",
     "shell.execute_reply.started": "2025-09-14T19:27:47.505375Z"
    },
    "id": "UOSyNfzM1Oge",
    "tags": []
   },
   "outputs": [],
   "source": [
    "client_info_sm = client_info.drop(columns=['date_m']).groupby('client_code').sum()"
   ]
  },
  {
   "cell_type": "code",
   "execution_count": 43,
   "id": "2c1411c9-f931-411e-9b88-33b99782c2c6",
   "metadata": {
    "execution": {
     "iopub.execute_input": "2025-09-14T19:27:47.515526Z",
     "iopub.status.busy": "2025-09-14T19:27:47.515340Z",
     "iopub.status.idle": "2025-09-14T19:27:47.529773Z",
     "shell.execute_reply": "2025-09-14T19:27:47.526022Z",
     "shell.execute_reply.started": "2025-09-14T19:27:47.515509Z"
    },
    "id": "R6QLvvtQ4qxa",
    "tags": []
   },
   "outputs": [],
   "source": [
    "vip = ['Золотые слитки', 'Инвестиции', 'Депозит Накопительный', 'card']\n",
    "valut = ['Обмен валют', 'card']\n",
    "middle = ['Инвестиции', 'Депозит Сберегательный', 'card']\n",
    "standart = ['Кредит наличными', 'Депозит Мультивалютный', 'card']"
   ]
  },
  {
   "cell_type": "code",
   "execution_count": 44,
   "id": "beccb6db-430a-44ec-bca0-bff06392fd45",
   "metadata": {
    "execution": {
     "iopub.execute_input": "2025-09-14T19:27:47.530388Z",
     "iopub.status.busy": "2025-09-14T19:27:47.530216Z",
     "iopub.status.idle": "2025-09-14T19:27:47.544175Z",
     "shell.execute_reply": "2025-09-14T19:27:47.541301Z",
     "shell.execute_reply.started": "2025-09-14T19:27:47.530371Z"
    },
    "id": "zqTyfbeY1pSQ",
    "tags": []
   },
   "outputs": [],
   "source": [
    "client_info_sm = pd.merge(client_info_sm, client[['client_code', 'status']], on=['client_code'], how='left')\n"
   ]
  },
  {
   "cell_type": "code",
   "execution_count": 45,
   "id": "caaf45f8-ffbb-4455-b12b-274b46c9e29b",
   "metadata": {
    "execution": {
     "iopub.execute_input": "2025-09-14T19:27:47.544773Z",
     "iopub.status.busy": "2025-09-14T19:27:47.544606Z",
     "iopub.status.idle": "2025-09-14T19:27:47.557665Z",
     "shell.execute_reply": "2025-09-14T19:27:47.551833Z",
     "shell.execute_reply.started": "2025-09-14T19:27:47.544756Z"
    },
    "id": "h3dkrRXx9HFS",
    "tags": []
   },
   "outputs": [],
   "source": [
    "client_info_sm['credit_card_cashback'] = client_info_sm['credit_card_cashback'].apply(lambda x: min(x, 240000))"
   ]
  },
  {
   "cell_type": "code",
   "execution_count": 46,
   "id": "687130a6-bf7f-41a6-a3a3-666fb80148c3",
   "metadata": {
    "execution": {
     "iopub.execute_input": "2025-09-14T19:27:47.560263Z",
     "iopub.status.busy": "2025-09-14T19:27:47.560091Z",
     "iopub.status.idle": "2025-09-14T19:27:47.571916Z",
     "shell.execute_reply": "2025-09-14T19:27:47.571443Z",
     "shell.execute_reply.started": "2025-09-14T19:27:47.560245Z"
    },
    "id": "9QZWDrkW7HY5",
    "tags": []
   },
   "outputs": [],
   "source": [
    "\n",
    "cashback_cols = ['travel_cashback', 'premium_cashback', 'credit_card_cashback']\n",
    "\n",
    "client_info_sm['cashback'] = client_info_sm[cashback_cols].max(axis=1)\n",
    "\n",
    "client_info_sm['card'] = client_info_sm[cashback_cols].idxmax(axis=1)\n",
    "\n",
    "name_map = {\n",
    "    'travel_cashback': 'Карта для путешествий',\n",
    "    'premium_cashback': 'Премиальная карта',\n",
    "    'credit_card_cashback': 'Кредитная карта'\n",
    "}\n",
    "\n",
    "client_info_sm['card'] = client_info_sm['card'].map(name_map)\n"
   ]
  },
  {
   "cell_type": "code",
   "execution_count": 47,
   "id": "b654b84c-7510-4f7b-a7d0-8a702f9041e7",
   "metadata": {
    "execution": {
     "iopub.execute_input": "2025-09-14T19:27:47.572436Z",
     "iopub.status.busy": "2025-09-14T19:27:47.572284Z",
     "iopub.status.idle": "2025-09-14T19:27:47.629839Z",
     "shell.execute_reply": "2025-09-14T19:27:47.629006Z",
     "shell.execute_reply.started": "2025-09-14T19:27:47.572420Z"
    },
    "id": "rQgxNYY-6Ooj",
    "tags": []
   },
   "outputs": [],
   "source": [
    "client_info_sm.drop(columns=['travel_cashback', 'premium_cashback', 'credit_card_cashback'], inplace=True)"
   ]
  },
  {
   "cell_type": "code",
   "execution_count": 48,
   "id": "59cc9c55-9127-4080-8a76-773f0f57895b",
   "metadata": {
    "colab": {
     "base_uri": "https://localhost:8080/",
     "height": 178
    },
    "execution": {
     "iopub.execute_input": "2025-09-14T19:27:47.631318Z",
     "iopub.status.busy": "2025-09-14T19:27:47.630943Z",
     "iopub.status.idle": "2025-09-14T19:27:47.640922Z",
     "shell.execute_reply": "2025-09-14T19:27:47.640058Z",
     "shell.execute_reply.started": "2025-09-14T19:27:47.631298Z"
    },
    "id": "FcUJiGWL-kgI",
    "outputId": "94d395ec-ce10-4650-831c-8ad89de86224",
    "tags": []
   },
   "outputs": [
    {
     "data": {
      "text/plain": [
       "0    1\n",
       "Name: fx_count, dtype: int64"
      ]
     },
     "execution_count": 48,
     "metadata": {},
     "output_type": "execute_result"
    }
   ],
   "source": [
    "client_info_sm['fx_count'].value_counts()"
   ]
  },
  {
   "cell_type": "code",
   "execution_count": 49,
   "id": "9487adc0-e108-48c1-827c-f106262a0e6e",
   "metadata": {
    "execution": {
     "iopub.execute_input": "2025-09-14T19:27:47.642141Z",
     "iopub.status.busy": "2025-09-14T19:27:47.641744Z",
     "iopub.status.idle": "2025-09-14T19:27:47.652240Z",
     "shell.execute_reply": "2025-09-14T19:27:47.650485Z",
     "shell.execute_reply.started": "2025-09-14T19:27:47.642121Z"
    },
    "id": "SEt2r9A-9oOQ",
    "tags": []
   },
   "outputs": [],
   "source": [
    "import random\n",
    "def choose_product(row):\n",
    "    if (row['status'] == \"Премиальный клиент\") or (row['avg_monthly_balance_KZT'] >= 1_000_000*3):\n",
    "        product = random.choice(vip)\n",
    "        if product.endswith(\"card\"):\n",
    "            return random.choice(['Премиальная карта'])\n",
    "        return product\n",
    "\n",
    "    elif row['fx_count'] >= 12 * 3:\n",
    "        product = random.choice(valut)\n",
    "        if product.endswith(\"card\"):\n",
    "            return row['card']\n",
    "        return product\n",
    "\n",
    "    elif row['avg_monthly_balance_KZT'] >= 100_000 * 3:\n",
    "        product = random.choice(middle)\n",
    "        if product.endswith(\"card\"):\n",
    "            return row['card']\n",
    "        return product\n",
    "\n",
    "    else:\n",
    "        product = random.choice(standart)\n",
    "        if product.endswith(\"card\"):\n",
    "            return row['card']\n",
    "        return product\n",
    "\n",
    "client_info_sm['recommended_product'] = client_info_sm.apply(choose_product, axis=1)\n"
   ]
  },
  {
   "cell_type": "code",
   "execution_count": 50,
   "id": "f8929880-6cf4-445e-8c70-431ce56f79a9",
   "metadata": {
    "execution": {
     "iopub.execute_input": "2025-09-14T19:27:47.652865Z",
     "iopub.status.busy": "2025-09-14T19:27:47.652692Z",
     "iopub.status.idle": "2025-09-14T19:27:47.665930Z",
     "shell.execute_reply": "2025-09-14T19:27:47.663237Z",
     "shell.execute_reply.started": "2025-09-14T19:27:47.652847Z"
    },
    "tags": []
   },
   "outputs": [],
   "source": [
    "client_info_sm = pd.merge(client[['client_code', 'name', 'age']], client_info_sm, on=['client_code'], how='left')\n"
   ]
  },
  {
   "cell_type": "code",
   "execution_count": 51,
   "id": "0d2297f3-d5ce-43d4-a781-86465ce8cd29",
   "metadata": {
    "execution": {
     "iopub.execute_input": "2025-09-14T19:27:47.666560Z",
     "iopub.status.busy": "2025-09-14T19:27:47.666374Z",
     "iopub.status.idle": "2025-09-14T19:27:47.686115Z",
     "shell.execute_reply": "2025-09-14T19:27:47.683960Z",
     "shell.execute_reply.started": "2025-09-14T19:27:47.666543Z"
    },
    "tags": []
   },
   "outputs": [
    {
     "data": {
      "text/html": [
       "<div>\n",
       "<style scoped>\n",
       "    .dataframe tbody tr th:only-of-type {\n",
       "        vertical-align: middle;\n",
       "    }\n",
       "\n",
       "    .dataframe tbody tr th {\n",
       "        vertical-align: top;\n",
       "    }\n",
       "\n",
       "    .dataframe thead th {\n",
       "        text-align: right;\n",
       "    }\n",
       "</style>\n",
       "<table border=\"1\" class=\"dataframe\">\n",
       "  <thead>\n",
       "    <tr style=\"text-align: right;\">\n",
       "      <th></th>\n",
       "      <th>client_code</th>\n",
       "      <th>name</th>\n",
       "      <th>age</th>\n",
       "      <th>purchase</th>\n",
       "      <th>deposit</th>\n",
       "      <th>invest</th>\n",
       "      <th>avg_monthly_balance_KZT</th>\n",
       "      <th>fx_count</th>\n",
       "      <th>status</th>\n",
       "      <th>cashback</th>\n",
       "      <th>card</th>\n",
       "      <th>recommended_product</th>\n",
       "    </tr>\n",
       "  </thead>\n",
       "  <tbody>\n",
       "    <tr>\n",
       "      <th>0</th>\n",
       "      <td>1</td>\n",
       "      <td>Айгерим</td>\n",
       "      <td>29</td>\n",
       "      <td>2626914.27</td>\n",
       "      <td>0.0</td>\n",
       "      <td>0.0</td>\n",
       "      <td>277929</td>\n",
       "      <td>0</td>\n",
       "      <td>Зарплатный клиент</td>\n",
       "      <td>156215.325</td>\n",
       "      <td>Кредитная карта</td>\n",
       "      <td>Депозит Мультивалютный</td>\n",
       "    </tr>\n",
       "  </tbody>\n",
       "</table>\n",
       "</div>"
      ],
      "text/plain": [
       "   client_code     name  age    purchase  deposit  invest  \\\n",
       "0            1  Айгерим   29  2626914.27      0.0     0.0   \n",
       "\n",
       "   avg_monthly_balance_KZT  fx_count             status    cashback  \\\n",
       "0                   277929         0  Зарплатный клиент  156215.325   \n",
       "\n",
       "              card     recommended_product  \n",
       "0  Кредитная карта  Депозит Мультивалютный  "
      ]
     },
     "execution_count": 51,
     "metadata": {},
     "output_type": "execute_result"
    }
   ],
   "source": [
    "client_info_sm"
   ]
  },
  {
   "cell_type": "markdown",
   "id": "2116cfbf-d8eb-4ccc-af91-32d9eda969f6",
   "metadata": {
    "execution": {
     "iopub.execute_input": "2025-09-14T19:27:00.463813Z",
     "iopub.status.busy": "2025-09-14T19:27:00.463498Z",
     "iopub.status.idle": "2025-09-14T19:27:00.474767Z",
     "shell.execute_reply": "2025-09-14T19:27:00.471120Z",
     "shell.execute_reply.started": "2025-09-14T19:27:00.463789Z"
    },
    "tags": []
   },
   "source": [
    "# Генерация текста"
   ]
  },
  {
   "cell_type": "code",
   "execution_count": 52,
   "id": "7077cd24-b361-4af5-abc2-be2917243699",
   "metadata": {
    "execution": {
     "iopub.execute_input": "2025-09-14T19:27:47.686752Z",
     "iopub.status.busy": "2025-09-14T19:27:47.686578Z",
     "iopub.status.idle": "2025-09-14T19:27:47.697530Z",
     "shell.execute_reply": "2025-09-14T19:27:47.697038Z",
     "shell.execute_reply.started": "2025-09-14T19:27:47.686736Z"
    },
    "id": "edAp1sfiFc5H"
   },
   "outputs": [],
   "source": [
    "templates = {\n",
    "    \"Карта для путешествий\": {\n",
    "        \"<30\": \"{name}, за последние 3 месяца вы могли заработать {cashback} ₸ на поездках и такси 🚕. Тревел-карта вернёт часть расходов и даст привилегии Visa Signature. Оформить?\",\n",
    "        \"30+\": \"{name}, за последние 3 месяца ваши поездки и такси принесли бы {cashback} ₸. С тревел-картой вы вернёте ещё больше и пользуетесь бонусами Visa Signature. Посмотреть карту.\"\n",
    "    },\n",
    "    \"Премиальная карта\": {\n",
    "        \"<30\": \"{name}, за 3 месяца ваш потенциальный кешбэк — {cashback} ₸. Премиальная карта даёт до 4% на рестораны и ювелирку ✨, плюс снятие наличных без заморочек. Посмотреть карту?\",\n",
    "        \"30+\": \"{name}, за последние 3 месяца ваш кешбэк мог составить {cashback} ₸. Премиальная карта повышает доход и упрощает снятие/переводы наличных. Открыть карту.\"\n",
    "    },\n",
    "    \"Кредитная карта\": {\n",
    "        \"<30\": \"{name}, за 3 месяца можно было заработать {cashback} ₸ 😎. До 10% кешбэка и онлайн-сервисы, плюс рассрочка без переплат. Оформить карту?\",\n",
    "        \"30+\": \"{name}, за последние 3 месяца ваш потенциальный кешбэк — {cashback} ₸. Кредитная карта возвращает до 10% на топ-категории и онлайн-услуги, плюс рассрочка без переплат. Посмотреть карту.\"\n",
    "    },\n",
    "    \"Обмен валют\": {\n",
    "        \"<30\": \"{name}, часто меняете валюту? 💸 В приложении выгодный курс, без комиссии, и авто-покупка по целевому курсу. Настроить обмен?\",\n",
    "        \"30+\": \"{name}, вы часто меняете валюту. В приложении выгодный курс без комиссии и возможность авто-покупки по целевому курсу. Посмотреть обмен.\"\n",
    "    },\n",
    "    \"Кредит наличными\": {\n",
    "        \"<30\": \"{name}, нужен быстрый запас на крупные расходы? 💡 Кредит наличными без залога и справок, онлайн или в отделении, с гибкими выплатами. Узнать лимит?\",\n",
    "        \"30+\": \"{name}, если нужен быстрый кредит на любые цели — оформите кредит наличными онлайн или в отделении. Гибкие выплаты, без залога и справок. Узнать лимит.\"\n",
    "    },\n",
    "    \"Депозит Мультивалютный\": {\n",
    "        \"<30\": \"{name}, держите свободные средства? 💰 Мультивалютный депозит 14,50% с доступом к деньгам и пополнением без ограничений. Открыть депозит?\",\n",
    "        \"30+\": \"{name}, у вас остаются свободные средства? Мультивалютный депозит 14,50% с доступом к деньгам и пополнением без ограничений. Посмотреть условия.\"\n",
    "    },\n",
    "    \"Депозит Сберегательный\": {\n",
    "        \"<30\": \"{name}, хотите максимальный доход? 🔒 Сберегательный депозит 16,50% до конца срока — храните средства без снятия. Открыть вклад?\",\n",
    "        \"30+\": \"{name}, чтобы получить максимальный доход, разместите средства на сберегательном депозите 16,50% до конца срока. Посмотреть вклад.\"\n",
    "    },\n",
    "    \"Депозит Накопительный\": {\n",
    "        \"<30\": \"{name}, планомерно копите? 💡 Накопительный депозит 15,50% с возможностью пополнения — удобно откладывать. Открыть вклад?\",\n",
    "        \"30+\": \"{name}, если хотите копить с доходом 15,50%, накопительный депозит с пополнением — отличный вариант. Посмотреть условия.\"\n",
    "    },\n",
    "    \"Инвестиции\": {\n",
    "        \"<30\": \"{name}, хотите начать инвестировать с малых сумм? 📈 Без комиссий первый год, порог от 6 ₸. Попробовать инвестиции?\",\n",
    "        \"30+\": \"{name}, чтобы начать инвестировать с низким порогом и без комиссий первый год, откройте инвестиционный счёт. Посмотреть условия.\"\n",
    "    },\n",
    "    \"Золотые слитки\": {\n",
    "        \"<30\": \"{name}, диверсифицируете сбережения? 🪙 Купите золотые слитки 999,9 пробы в приложении или отделении, храните в сейфах. Посмотреть варианты?\",\n",
    "        \"30+\": \"{name}, чтобы сохранить стоимость средств и диверсифицировать портфель, купите золотые слитки 999,9 пробы и храните в сейфах банка. Посмотреть.\"\n",
    "    },\n",
    "}\n",
    "\n",
    "def generate_push(user):\n",
    "    age_group = \"<30\" if user[\"age\"] < 30 else \"30+\"\n",
    "    product = user[\"recommended_product\"]\n",
    "    template = templates.get(product, {}).get(age_group)\n",
    "\n",
    "    user_data = {\n",
    "        \"name\": user[\"name\"],\n",
    "        \"cashback\":  f\"{int(round(user['cashback'])):,}\".replace(\",\", \" \")\n",
    "    }\n",
    "\n",
    "    if template:\n",
    "        return template.format(**user_data)\n",
    "    else:\n",
    "        return f\"{user['name']}, нет шаблона для выбранного продукта.\"\n",
    "\n",
    "\n"
   ]
  },
  {
   "cell_type": "code",
   "execution_count": 53,
   "id": "176cdd57-a5d2-44a7-9d89-7c01fa8af93e",
   "metadata": {
    "execution": {
     "iopub.execute_input": "2025-09-14T19:27:47.698053Z",
     "iopub.status.busy": "2025-09-14T19:27:47.697896Z",
     "iopub.status.idle": "2025-09-14T19:27:47.711483Z",
     "shell.execute_reply": "2025-09-14T19:27:47.709354Z",
     "shell.execute_reply.started": "2025-09-14T19:27:47.698037Z"
    },
    "id": "5Y6I41pLYf7h"
   },
   "outputs": [],
   "source": [
    "client_info_sm[\"push_notification\"] = client_info_sm.apply(generate_push, axis=1)\n"
   ]
  },
  {
   "cell_type": "code",
   "execution_count": 54,
   "id": "be1908f0-0a25-4e02-9100-b9e0c85b8e7d",
   "metadata": {
    "execution": {
     "iopub.execute_input": "2025-09-14T19:27:47.712658Z",
     "iopub.status.busy": "2025-09-14T19:27:47.711935Z",
     "iopub.status.idle": "2025-09-14T19:27:47.716582Z",
     "shell.execute_reply": "2025-09-14T19:27:47.715754Z",
     "shell.execute_reply.started": "2025-09-14T19:27:47.712624Z"
    },
    "id": "tZI2YY60etvu"
   },
   "outputs": [],
   "source": [
    "client_info_sm.rename(columns={'recommended_product': 'product'}, inplace=True)"
   ]
  },
  {
   "cell_type": "code",
   "execution_count": 55,
   "id": "d34e74f8-8c5b-4068-97b5-a923fddf8f9e",
   "metadata": {
    "execution": {
     "iopub.execute_input": "2025-09-14T19:27:47.717188Z",
     "iopub.status.busy": "2025-09-14T19:27:47.717021Z",
     "iopub.status.idle": "2025-09-14T19:27:47.742745Z",
     "shell.execute_reply": "2025-09-14T19:27:47.727248Z",
     "shell.execute_reply.started": "2025-09-14T19:27:47.717171Z"
    },
    "id": "p_vkUMyoeNyq"
   },
   "outputs": [],
   "source": [
    "result = client_info_sm[['client_code', 'product', 'push_notification']]"
   ]
  },
  {
   "cell_type": "code",
   "execution_count": 56,
   "id": "3ef7a77c-d0a2-42e5-a51c-2c0428aa5cc9",
   "metadata": {
    "execution": {
     "iopub.execute_input": "2025-09-14T19:27:47.743823Z",
     "iopub.status.busy": "2025-09-14T19:27:47.743628Z",
     "iopub.status.idle": "2025-09-14T19:27:47.751559Z",
     "shell.execute_reply": "2025-09-14T19:27:47.750921Z",
     "shell.execute_reply.started": "2025-09-14T19:27:47.743805Z"
    },
    "id": "0X-cj37deG6J"
   },
   "outputs": [
    {
     "data": {
      "text/html": [
       "<div>\n",
       "<style scoped>\n",
       "    .dataframe tbody tr th:only-of-type {\n",
       "        vertical-align: middle;\n",
       "    }\n",
       "\n",
       "    .dataframe tbody tr th {\n",
       "        vertical-align: top;\n",
       "    }\n",
       "\n",
       "    .dataframe thead th {\n",
       "        text-align: right;\n",
       "    }\n",
       "</style>\n",
       "<table border=\"1\" class=\"dataframe\">\n",
       "  <thead>\n",
       "    <tr style=\"text-align: right;\">\n",
       "      <th></th>\n",
       "      <th>client_code</th>\n",
       "      <th>product</th>\n",
       "      <th>push_notification</th>\n",
       "    </tr>\n",
       "  </thead>\n",
       "  <tbody>\n",
       "    <tr>\n",
       "      <th>0</th>\n",
       "      <td>1</td>\n",
       "      <td>Депозит Мультивалютный</td>\n",
       "      <td>Айгерим, держите свободные средства? 💰 Мультив...</td>\n",
       "    </tr>\n",
       "  </tbody>\n",
       "</table>\n",
       "</div>"
      ],
      "text/plain": [
       "   client_code                 product  \\\n",
       "0            1  Депозит Мультивалютный   \n",
       "\n",
       "                                   push_notification  \n",
       "0  Айгерим, держите свободные средства? 💰 Мультив...  "
      ]
     },
     "execution_count": 56,
     "metadata": {},
     "output_type": "execute_result"
    }
   ],
   "source": [
    "result"
   ]
  },
  {
   "cell_type": "code",
   "execution_count": null,
   "id": "3df864bc-d47d-40d5-b249-ec417fc3dce5",
   "metadata": {},
   "outputs": [],
   "source": []
  },
  {
   "cell_type": "code",
   "execution_count": null,
   "id": "b354ac53-132f-44e2-9164-b611257844c9",
   "metadata": {},
   "outputs": [],
   "source": []
  }
 ],
 "metadata": {
  "kernelspec": {
   "display_name": "python KUATOVNU (DATA_SCIENCE)",
   "language": "python",
   "name": "python_data_science_kuatovnu"
  },
  "language_info": {
   "codemirror_mode": {
    "name": "ipython",
    "version": 3
   },
   "file_extension": ".py",
   "mimetype": "text/x-python",
   "name": "python",
   "nbconvert_exporter": "python",
   "pygments_lexer": "ipython3",
   "version": "3.10.8"
  }
 },
 "nbformat": 4,
 "nbformat_minor": 5
}
